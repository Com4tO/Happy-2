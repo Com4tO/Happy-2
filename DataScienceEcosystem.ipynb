{
 "cells": [
  {
   "cell_type": "markdown",
   "id": "00d1e099-bed8-425e-9128-b2f05cec8b61",
   "metadata": {
    "tags": []
   },
   "source": [
    "Task 2: Create markdown cell with title of the notebook,\n",
    "Data Science Tools and Ecosystem using H1 style heading.\n",
    "     "
   ]
  },
  {
   "cell_type": "markdown",
   "id": "9c5031be-dac7-40d7-9fa5-6f4c6c66fefd",
   "metadata": {},
   "source": [
    "# Data Science Tools and Ecosystem"
   ]
  },
  {
   "cell_type": "markdown",
   "id": "00381678-abe8-41dc-8a89-f0c8c24e79b5",
   "metadata": {},
   "source": [
    "Task 3: Write an introductory sentence about the notebook such as follows:\n",
    " In this notebook, Data Science Tools and Ecosystem are summarized "
   ]
  },
  {
   "cell_type": "markdown",
   "id": "1edc4829-5bdf-4467-833c-18661f70b943",
   "metadata": {},
   "source": [
    "In this notebook, Data Science Tools and Ecosystem are summarized"
   ]
  },
  {
   "cell_type": "markdown",
   "id": "370c46f9-7728-4e61-9c8d-6549f65942b1",
   "metadata": {},
   "source": [
    "**Objectives:**\n",
    "\n",
    "• Introduction to Python\n",
    "\n",
    "• Introduction to SQL\n",
    "\n",
    "• Introduction to R language\n",
    "\n",
    "• Other languages for Data Science\n",
    "\n",
    "• Data Science libraries \n",
    "\n",
    "\n",
    "\n"
   ]
  },
  {
   "cell_type": "markdown",
   "id": "06e66842-73da-44e5-bf2f-1d5959168ac2",
   "metadata": {},
   "source": [
    "Task 4: List data science languages"
   ]
  },
  {
   "cell_type": "markdown",
   "id": "92721423-f32a-4fb1-b7ca-084a5ce1ff98",
   "metadata": {},
   "source": [
    "Some of the popular languages that Data Scientist use are:\n",
    "    \n",
    "    1.  Python\n",
    "    2.  R\n",
    "    3.  SQL\n",
    "    4.  Java\n",
    "    5.  Scala\n",
    "    6.  Julia\n",
    "    7.  C++\n",
    "    \n",
    "\n"
   ]
  },
  {
   "cell_type": "markdown",
   "id": "9e0cbcee-e2d4-43ec-a54b-e2d9bf9a5a89",
   "metadata": {},
   "source": [
    "Task 5:  List data science libraries"
   ]
  },
  {
   "cell_type": "markdown",
   "id": "19f9f717-9443-4b1a-8548-43494aeda239",
   "metadata": {},
   "source": [
    "Some of the commonly used libraries used by Data Scientist include:\n",
    "    \n",
    "    1. Pandas\n",
    "    2. NumPy\n",
    "    3. Matplotlib\n",
    "    5. Seaborn\n",
    "    6. Scikit-learn\n",
    "    7. Keras"
   ]
  },
  {
   "cell_type": "markdown",
   "id": "03349acd-f770-46db-b183-2ebd37d5f37d",
   "metadata": {
    "tags": []
   },
   "source": [
    "Task 6: Create a table of Data Science tools\n"
   ]
  },
  {
   "cell_type": "markdown",
   "id": "293946c1-cc62-48da-9f1a-7d06c88b0c35",
   "metadata": {},
   "source": [
    "|Data Science Tools|\n",
    "|-------|\n",
    "|Apache Spark|\n",
    "|Apache Kafka|\n",
    "|Apache Airflow|\n",
    "|Apache Nifi|\n",
    "|Kubeflow|\n",
    "\n"
   ]
  },
  {
   "cell_type": "markdown",
   "id": "57bf41fb-9eec-4a48-bae8-5b81c479f3d0",
   "metadata": {},
   "source": [
    "Task 7: Arithmetic expression"
   ]
  },
  {
   "cell_type": "markdown",
   "id": "efc4f88f-f605-4c43-b092-8d615e38c0dd",
   "metadata": {},
   "source": [
    "### Below are the few examples of evaluating arithmetic expression in python"
   ]
  },
  {
   "cell_type": "markdown",
   "id": "4bc44f12-b078-46a7-a433-3aeaca992970",
   "metadata": {},
   "source": [
    "Task 8: Multiply and Add numbers"
   ]
  },
  {
   "cell_type": "code",
   "execution_count": 7,
   "id": "a8baf05e-fa06-4396-8835-2036e4d77194",
   "metadata": {
    "tags": []
   },
   "outputs": [
    {
     "data": {
      "text/plain": [
       "17"
      ]
     },
     "execution_count": 7,
     "metadata": {},
     "output_type": "execute_result"
    }
   ],
   "source": [
    "# Evaluating basic arithmetic expression containing multiplication and addition operations\n",
    "(3*4)+5"
   ]
  },
  {
   "cell_type": "markdown",
   "id": "45c07d5c-f02e-4d90-bbfe-56d7d235082f",
   "metadata": {},
   "source": [
    "Task 9: Convert minutes to hours\n"
   ]
  },
  {
   "cell_type": "code",
   "execution_count": 3,
   "id": "f0589ca1-79b3-4aad-bea6-bd02e7e18193",
   "metadata": {
    "tags": []
   },
   "outputs": [
    {
     "data": {
      "text/plain": [
       "3.3333333333333335"
      ]
     },
     "execution_count": 3,
     "metadata": {},
     "output_type": "execute_result"
    }
   ],
   "source": [
    "# Converting 200 minute to hours by dividing by 60\n",
    "200/60"
   ]
  },
  {
   "cell_type": "markdown",
   "id": "b0d4d56a-701e-4c3c-828a-c0aeaded6867",
   "metadata": {},
   "source": [
    "Task 11: Author's name\n"
   ]
  },
  {
   "cell_type": "markdown",
   "id": "728fc6d8-d390-4869-80bc-78a7865bb03c",
   "metadata": {},
   "source": [
    "## Author\n",
    "Comfort O"
   ]
  },
  {
   "cell_type": "code",
   "execution_count": null,
   "id": "d9ad3064-62e1-4824-bbf2-76ecd4c9256e",
   "metadata": {},
   "outputs": [],
   "source": []
  }
 ],
 "metadata": {
  "kernelspec": {
   "display_name": "Python",
   "language": "python",
   "name": "conda-env-python-py"
  },
  "language_info": {
   "codemirror_mode": {
    "name": "ipython",
    "version": 3
   },
   "file_extension": ".py",
   "mimetype": "text/x-python",
   "name": "python",
   "nbconvert_exporter": "python",
   "pygments_lexer": "ipython3",
   "version": "3.7.12"
  }
 },
 "nbformat": 4,
 "nbformat_minor": 5
}
